{
 "cells": [
  {
   "cell_type": "code",
   "execution_count": null,
   "metadata": {},
   "outputs": [],
   "source": [
    "from sklearn.grid_search import GridSearchCV\n",
    "import xgboost as xgb"
   ]
  },
  {
   "cell_type": "code",
   "execution_count": null,
   "metadata": {},
   "outputs": [],
   "source": [
    "xgb = xgb.XGBClassifier(silent = True, objective='binary:logistic')"
   ]
  },
  {
   "cell_type": "code",
   "execution_count": null,
   "metadata": {},
   "outputs": [],
   "source": [
    "parameters = {'learning_rate': [0.01,0.015,0.02,0.05], \n",
    "              'max_depth': [3,4,5,6],\n",
    "              'min_child_weight': [1, 5, 10],\n",
    "              'subsample': [0.6, 0.8, 1.0],\n",
    "               'colsample_bytree': [0.6, 0.8, 1.0],\n",
    "               'n_estimators': [10,100,200,500,1000], \n",
    "               'gamma': [0.5, 1, 1.5, 2, 5],\n",
    "                'seed': [1337]#reduce variance\n",
    "              'reg_alpha':[0,1], \n",
    "                'reg_lambda':[0,1]\n",
    "               'eta':}"
   ]
  },
  {
   "cell_type": "code",
   "execution_count": null,
   "metadata": {},
   "outputs": [],
   "source": [
    "clf_xbg = GridSearchCV(xgb, parameters, n_jobs=5, scoring='roc_auc',verbose=2, refit=True)"
   ]
  },
  {
   "cell_type": "code",
   "execution_count": null,
   "metadata": {},
   "outputs": [],
   "source": [
    "clf_xbg.fit(X_train, y_train)\n",
    "print(clf_xbg.best_params_)"
   ]
  },
  {
   "cell_type": "code",
   "execution_count": null,
   "metadata": {},
   "outputs": [],
   "source": [
    "best_parameters, score, _ = max(clf_xbg.grid_scores_, key= lambda x: x[1])\n",
    "print('Raw AUC score:', score)"
   ]
  },
  {
   "cell_type": "code",
   "execution_count": null,
   "metadata": {},
   "outputs": [],
   "source": [
    "test_probs = clf_xbg.predict_proba(X_test)[:,1]"
   ]
  }
 ],
 "metadata": {
  "kernelspec": {
   "display_name": "Python 3",
   "language": "python",
   "name": "python3"
  },
  "language_info": {
   "codemirror_mode": {
    "name": "ipython",
    "version": 3
   },
   "file_extension": ".py",
   "mimetype": "text/x-python",
   "name": "python",
   "nbconvert_exporter": "python",
   "pygments_lexer": "ipython3",
   "version": "3.7.4"
  }
 },
 "nbformat": 4,
 "nbformat_minor": 4
}
