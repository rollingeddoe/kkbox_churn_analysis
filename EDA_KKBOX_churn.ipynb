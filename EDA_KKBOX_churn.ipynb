{
 "cells": [
  {
   "cell_type": "code",
   "execution_count": 2,
   "metadata": {},
   "outputs": [],
   "source": [
    "import numpy as np\n",
    "import pandas as pd\n",
    "import findspark \n",
    "\n",
    "\n",
    "# from datetime import datetime\n",
    "# from collections import Counter\n",
    "# from subprocess import check_output\n",
    "\n",
    "# import matplotlib.pyplot as plt\n",
    "# import seaborn as sns\n",
    "\n",
    "# import pyspark\n",
    "# from pyspark import SparkContext, SparkConf\n",
    "# from pyspark.sql import SQLContext\n",
    "# from pyspark.sql import SparkSession\n",
    "# from pyspark.sql.functions import unix_timestamp, from_unixtime"
   ]
  },
  {
   "cell_type": "code",
   "execution_count": 130,
   "metadata": {},
   "outputs": [],
   "source": [
    "pd_train=pd.read_csv('train.csv')\n",
    "pd_train_v2=pd.read_csv('train_v2.csv')\n",
    "pd_sub=pd.read_csv('sample_submission_zero.csv')\n",
    "pd_sub_v2=pd.read_csv('sample_submission_v2.csv')\n",
    "pd_trans=pd.read_csv('transactions.csv')\n",
    "pd_trans_v2=pd.read_csv('transactions_v2.csv')\n",
    "pd_users_v2=pd.read_csv('user_logs_v2.csv')\n",
    "pd_member=pd.read_csv('members_v3.csv')"
   ]
  },
  {
   "cell_type": "code",
   "execution_count": 3,
   "metadata": {},
   "outputs": [
    {
     "ename": "NameError",
     "evalue": "name 'pd_train' is not defined",
     "output_type": "error",
     "traceback": [
      "\u001b[1;31m---------------------------------------------------------------------------\u001b[0m",
      "\u001b[1;31mNameError\u001b[0m                                 Traceback (most recent call last)",
      "\u001b[1;32m<ipython-input-3-cf1cba15590a>\u001b[0m in \u001b[0;36m<module>\u001b[1;34m\u001b[0m\n\u001b[1;32m----> 1\u001b[1;33m \u001b[0mpd_train_all\u001b[0m\u001b[1;33m=\u001b[0m\u001b[0mpd\u001b[0m\u001b[1;33m.\u001b[0m\u001b[0mconcat\u001b[0m\u001b[1;33m(\u001b[0m\u001b[1;33m[\u001b[0m\u001b[0mpd_train\u001b[0m\u001b[1;33m,\u001b[0m\u001b[0mpd_train_v2\u001b[0m\u001b[1;33m]\u001b[0m\u001b[1;33m)\u001b[0m\u001b[1;33m\u001b[0m\u001b[1;33m\u001b[0m\u001b[0m\n\u001b[0m\u001b[0;32m      2\u001b[0m \u001b[0mpd_train_all\u001b[0m\u001b[1;33m[\u001b[0m\u001b[1;34m'msno'\u001b[0m\u001b[1;33m]\u001b[0m\u001b[1;33m.\u001b[0m\u001b[0mdescribe\u001b[0m\u001b[1;33m(\u001b[0m\u001b[1;33m)\u001b[0m\u001b[1;33m\u001b[0m\u001b[1;33m\u001b[0m\u001b[0m\n",
      "\u001b[1;31mNameError\u001b[0m: name 'pd_train' is not defined"
     ]
    }
   ],
   "source": [
    "pd_train_all=pd.concat([pd_train,pd_train_v2])\n",
    "pd_train_all['msno'].describe()"
   ]
  },
  {
   "cell_type": "code",
   "execution_count": 157,
   "metadata": {},
   "outputs": [
    {
     "data": {
      "text/plain": [
       "(1128180, 2)"
      ]
     },
     "execution_count": 157,
     "metadata": {},
     "output_type": "execute_result"
    }
   ],
   "source": [
    "pd_train_all=pd_train_all.drop_duplicates()\n",
    "pd_train_all.shape"
   ]
  },
  {
   "cell_type": "code",
   "execution_count": 168,
   "metadata": {},
   "outputs": [
    {
     "data": {
      "text/plain": [
       "count                                          1878431\n",
       "unique                                         1076941\n",
       "top       a2h/k2Wgq12p/jTBqcZEkjYMWLwJ30GWFe7saJF+bF8=\n",
       "freq                                                 2\n",
       "Name: msno, dtype: object"
      ]
     },
     "execution_count": 168,
     "metadata": {},
     "output_type": "execute_result"
    }
   ],
   "source": [
    "pd_sub_all=pd.concat([pd_sub,pd_sub_v2])\n",
    "pd_sub_all['msno'].describe()"
   ]
  },
  {
   "cell_type": "code",
   "execution_count": 186,
   "metadata": {},
   "outputs": [
    {
     "data": {
      "text/plain": [
       "count                                          1143472\n",
       "unique                                         1143472\n",
       "top       MuJj2DtF+wZWVPpvvaV3I9h/+axyHF8LiR5etZ14ojw=\n",
       "freq                                                 1\n",
       "Name: msno, dtype: object"
      ]
     },
     "execution_count": 186,
     "metadata": {},
     "output_type": "execute_result"
    }
   ],
   "source": [
    "user_id=pd.concat([pd_train_all,pd_sub_all])\n",
    "pd_distinct_id=user_id['msno'].drop_duplicates()\n",
    "pd_distinct_id.describe()"
   ]
  },
  {
   "cell_type": "code",
   "execution_count": 185,
   "metadata": {},
   "outputs": [
    {
     "name": "stdout",
     "output_type": "stream",
     "text": [
      "(1018235, 6)\n"
     ]
    },
    {
     "data": {
      "text/html": [
       "<div>\n",
       "<style scoped>\n",
       "    .dataframe tbody tr th:only-of-type {\n",
       "        vertical-align: middle;\n",
       "    }\n",
       "\n",
       "    .dataframe tbody tr th {\n",
       "        vertical-align: top;\n",
       "    }\n",
       "\n",
       "    .dataframe thead th {\n",
       "        text-align: right;\n",
       "    }\n",
       "</style>\n",
       "<table border=\"1\" class=\"dataframe\">\n",
       "  <thead>\n",
       "    <tr style=\"text-align: right;\">\n",
       "      <th></th>\n",
       "      <th>msno</th>\n",
       "      <th>city</th>\n",
       "      <th>bd</th>\n",
       "      <th>gender</th>\n",
       "      <th>registered_via</th>\n",
       "      <th>registration_init_time</th>\n",
       "    </tr>\n",
       "  </thead>\n",
       "  <tbody>\n",
       "    <tr>\n",
       "      <td>1</td>\n",
       "      <td>+tJonkh+O1CA796Fm5X60UMOtB6POHAwPjbTRVl/EuU=</td>\n",
       "      <td>1</td>\n",
       "      <td>0</td>\n",
       "      <td>NaN</td>\n",
       "      <td>7</td>\n",
       "      <td>20110914</td>\n",
       "    </tr>\n",
       "    <tr>\n",
       "      <td>4</td>\n",
       "      <td>WFLY3s7z4EZsieHCt63XrsdtfTEmJ+2PnnKLH5GY4Tk=</td>\n",
       "      <td>6</td>\n",
       "      <td>32</td>\n",
       "      <td>female</td>\n",
       "      <td>9</td>\n",
       "      <td>20110915</td>\n",
       "    </tr>\n",
       "    <tr>\n",
       "      <td>5</td>\n",
       "      <td>yLkV2gbZ4GLFwqTOXLVHz0VGrMYcgBGgKZ3kj9RiYu8=</td>\n",
       "      <td>4</td>\n",
       "      <td>30</td>\n",
       "      <td>male</td>\n",
       "      <td>9</td>\n",
       "      <td>20110916</td>\n",
       "    </tr>\n",
       "    <tr>\n",
       "      <td>7</td>\n",
       "      <td>WH5Jq4mgtfUFXh2yz+HrcTXKS4Oess4k4W3qKolAeb0=</td>\n",
       "      <td>5</td>\n",
       "      <td>34</td>\n",
       "      <td>male</td>\n",
       "      <td>9</td>\n",
       "      <td>20110916</td>\n",
       "    </tr>\n",
       "    <tr>\n",
       "      <td>9</td>\n",
       "      <td>I0yFvqMoNkM8ZNHb617e1RBzIS/YRKemHO7Wj13EtA0=</td>\n",
       "      <td>13</td>\n",
       "      <td>63</td>\n",
       "      <td>male</td>\n",
       "      <td>9</td>\n",
       "      <td>20110918</td>\n",
       "    </tr>\n",
       "    <tr>\n",
       "      <td>...</td>\n",
       "      <td>...</td>\n",
       "      <td>...</td>\n",
       "      <td>...</td>\n",
       "      <td>...</td>\n",
       "      <td>...</td>\n",
       "      <td>...</td>\n",
       "    </tr>\n",
       "    <tr>\n",
       "      <td>6769443</td>\n",
       "      <td>dz8iQV2eZCBZo1DjKL7OifsiyzGf3xyMaCFDOJHVeyc=</td>\n",
       "      <td>1</td>\n",
       "      <td>0</td>\n",
       "      <td>NaN</td>\n",
       "      <td>7</td>\n",
       "      <td>20151020</td>\n",
       "    </tr>\n",
       "    <tr>\n",
       "      <td>6769465</td>\n",
       "      <td>OL6joplCKThE1pZD+AQDnj3kZiC45qzpndlDIRSyPQI=</td>\n",
       "      <td>1</td>\n",
       "      <td>0</td>\n",
       "      <td>NaN</td>\n",
       "      <td>7</td>\n",
       "      <td>20151020</td>\n",
       "    </tr>\n",
       "    <tr>\n",
       "      <td>6769466</td>\n",
       "      <td>O11rAa17ANM6DGMMVb9L2vwCQFv/S6SR3SDB1nGuOAc=</td>\n",
       "      <td>1</td>\n",
       "      <td>0</td>\n",
       "      <td>NaN</td>\n",
       "      <td>7</td>\n",
       "      <td>20151020</td>\n",
       "    </tr>\n",
       "    <tr>\n",
       "      <td>6769467</td>\n",
       "      <td>tyoRqQ72Y2oCcqvdaIxG8T0Hs9DZvuuM8IeTwhxtdBQ=</td>\n",
       "      <td>6</td>\n",
       "      <td>26</td>\n",
       "      <td>female</td>\n",
       "      <td>7</td>\n",
       "      <td>20151020</td>\n",
       "    </tr>\n",
       "    <tr>\n",
       "      <td>6769469</td>\n",
       "      <td>nWjH7glPkZ7jOVaCRwwjlpmp0T1hSWdv8hMJxiWCwKc=</td>\n",
       "      <td>1</td>\n",
       "      <td>0</td>\n",
       "      <td>NaN</td>\n",
       "      <td>7</td>\n",
       "      <td>20151020</td>\n",
       "    </tr>\n",
       "  </tbody>\n",
       "</table>\n",
       "<p>1018235 rows × 6 columns</p>\n",
       "</div>"
      ],
      "text/plain": [
       "                                                 msno  city  bd  gender  \\\n",
       "1        +tJonkh+O1CA796Fm5X60UMOtB6POHAwPjbTRVl/EuU=     1   0     NaN   \n",
       "4        WFLY3s7z4EZsieHCt63XrsdtfTEmJ+2PnnKLH5GY4Tk=     6  32  female   \n",
       "5        yLkV2gbZ4GLFwqTOXLVHz0VGrMYcgBGgKZ3kj9RiYu8=     4  30    male   \n",
       "7        WH5Jq4mgtfUFXh2yz+HrcTXKS4Oess4k4W3qKolAeb0=     5  34    male   \n",
       "9        I0yFvqMoNkM8ZNHb617e1RBzIS/YRKemHO7Wj13EtA0=    13  63    male   \n",
       "...                                               ...   ...  ..     ...   \n",
       "6769443  dz8iQV2eZCBZo1DjKL7OifsiyzGf3xyMaCFDOJHVeyc=     1   0     NaN   \n",
       "6769465  OL6joplCKThE1pZD+AQDnj3kZiC45qzpndlDIRSyPQI=     1   0     NaN   \n",
       "6769466  O11rAa17ANM6DGMMVb9L2vwCQFv/S6SR3SDB1nGuOAc=     1   0     NaN   \n",
       "6769467  tyoRqQ72Y2oCcqvdaIxG8T0Hs9DZvuuM8IeTwhxtdBQ=     6  26  female   \n",
       "6769469  nWjH7glPkZ7jOVaCRwwjlpmp0T1hSWdv8hMJxiWCwKc=     1   0     NaN   \n",
       "\n",
       "         registered_via  registration_init_time  \n",
       "1                     7                20110914  \n",
       "4                     9                20110915  \n",
       "5                     9                20110916  \n",
       "7                     9                20110916  \n",
       "9                     9                20110918  \n",
       "...                 ...                     ...  \n",
       "6769443               7                20151020  \n",
       "6769465               7                20151020  \n",
       "6769466               7                20151020  \n",
       "6769467               7                20151020  \n",
       "6769469               7                20151020  \n",
       "\n",
       "[1018235 rows x 6 columns]"
      ]
     },
     "execution_count": 185,
     "metadata": {},
     "output_type": "execute_result"
    }
   ],
   "source": [
    "pd_member_clean=pd_member[pd_member['msno'].isin(pd_distinct_id)]\n",
    "print(pd_member_clean.shape)\n",
    "pd_member_clean"
   ]
  },
  {
   "cell_type": "code",
   "execution_count": 211,
   "metadata": {},
   "outputs": [
    {
     "name": "stdout",
     "output_type": "stream",
     "text": [
      "(1128180, 7)\n",
      "<class 'pandas.core.frame.DataFrame'>\n",
      "Int64Index: 1128180 entries, 0 to 1963874\n",
      "Data columns (total 7 columns):\n",
      "msno                      1128180 non-null object\n",
      "is_churn                  1128180 non-null int64\n",
      "city                      1003977 non-null float64\n",
      "bd                        1003977 non-null float64\n",
      "gender                    467072 non-null object\n",
      "registered_via            1003977 non-null float64\n",
      "registration_init_time    1003977 non-null float64\n",
      "dtypes: float64(4), int64(1), object(2)\n",
      "memory usage: 68.9+ MB\n"
     ]
    }
   ],
   "source": [
    "pd_member_churn=pd.merge(pd_train_all,pd_member_clean,how='left',on='msno')\n",
    "pd_member_churn=pd_member_churn.drop_duplicates()\n",
    "print(pd_member_churn.shape)\n",
    "pd_member_churn.info()"
   ]
  },
  {
   "cell_type": "code",
   "execution_count": 212,
   "metadata": {},
   "outputs": [
    {
     "name": "stdout",
     "output_type": "stream",
     "text": [
      "<class 'pandas.core.frame.DataFrame'>\n",
      "Int64Index: 1128180 entries, 0 to 1963874\n",
      "Data columns (total 7 columns):\n",
      "msno                      1128180 non-null object\n",
      "is_churn                  1128180 non-null int64\n",
      "city                      1128180 non-null object\n",
      "bd                        1003977 non-null float64\n",
      "gender                    1128180 non-null object\n",
      "registered_via            1128180 non-null object\n",
      "registration_init_time    1003977 non-null float64\n",
      "dtypes: float64(2), int64(1), object(4)\n",
      "memory usage: 68.9+ MB\n"
     ]
    }
   ],
   "source": [
    "pd_member_churn['city'] = pd_member_churn.city.apply(lambda x: int(x) if pd.notnull(x) else \"NAN\")\n",
    "pd_member_churn['registered_via'] = pd_member_churn.registered_via.apply(lambda x: int(x) if pd.notnull(x) else \"NAN\")\n",
    "pd_member_churn['gender']=pd_member_churn['gender'].fillna(\"NAN\")\n",
    "pd_member_churn.info()"
   ]
  },
  {
   "cell_type": "code",
   "execution_count": 213,
   "metadata": {},
   "outputs": [
    {
     "data": {
      "text/html": [
       "<div>\n",
       "<style scoped>\n",
       "    .dataframe tbody tr th:only-of-type {\n",
       "        vertical-align: middle;\n",
       "    }\n",
       "\n",
       "    .dataframe tbody tr th {\n",
       "        vertical-align: top;\n",
       "    }\n",
       "\n",
       "    .dataframe thead th {\n",
       "        text-align: right;\n",
       "    }\n",
       "</style>\n",
       "<table border=\"1\" class=\"dataframe\">\n",
       "  <thead>\n",
       "    <tr style=\"text-align: right;\">\n",
       "      <th></th>\n",
       "      <th>msno</th>\n",
       "      <th>is_churn</th>\n",
       "      <th>city</th>\n",
       "      <th>bd</th>\n",
       "      <th>gender</th>\n",
       "      <th>registered_via</th>\n",
       "      <th>registration_init_time</th>\n",
       "    </tr>\n",
       "  </thead>\n",
       "  <tbody>\n",
       "    <tr>\n",
       "      <td>0</td>\n",
       "      <td>waLDQMmcOu2jLDaV1ddDkgCrB/jl6sD66Xzs0Vqax1Y=</td>\n",
       "      <td>1</td>\n",
       "      <td>18</td>\n",
       "      <td>36.0</td>\n",
       "      <td>female</td>\n",
       "      <td>9</td>\n",
       "      <td>2005-04-06</td>\n",
       "    </tr>\n",
       "    <tr>\n",
       "      <td>1</td>\n",
       "      <td>QA7uiXy8vIbUSPOkCf9RwQ3FsT8jVq2OxDr8zqa7bRQ=</td>\n",
       "      <td>1</td>\n",
       "      <td>10</td>\n",
       "      <td>38.0</td>\n",
       "      <td>male</td>\n",
       "      <td>9</td>\n",
       "      <td>2005-04-07</td>\n",
       "    </tr>\n",
       "    <tr>\n",
       "      <td>2</td>\n",
       "      <td>fGwBva6hikQmTJzrbz/2Ezjm5Cth5jZUNvXigKK2AFA=</td>\n",
       "      <td>1</td>\n",
       "      <td>11</td>\n",
       "      <td>27.0</td>\n",
       "      <td>female</td>\n",
       "      <td>9</td>\n",
       "      <td>2005-10-16</td>\n",
       "    </tr>\n",
       "    <tr>\n",
       "      <td>3</td>\n",
       "      <td>mT5V8rEpa+8wuqi6x0DoVd3H5icMKkE9Prt49UlmK+4=</td>\n",
       "      <td>1</td>\n",
       "      <td>13</td>\n",
       "      <td>23.0</td>\n",
       "      <td>female</td>\n",
       "      <td>9</td>\n",
       "      <td>2005-11-02</td>\n",
       "    </tr>\n",
       "    <tr>\n",
       "      <td>4</td>\n",
       "      <td>XaPhtGLk/5UvvOYHcONTwsnH97P4eGECeq+BARGItRw=</td>\n",
       "      <td>1</td>\n",
       "      <td>3</td>\n",
       "      <td>27.0</td>\n",
       "      <td>male</td>\n",
       "      <td>9</td>\n",
       "      <td>2005-12-28</td>\n",
       "    </tr>\n",
       "  </tbody>\n",
       "</table>\n",
       "</div>"
      ],
      "text/plain": [
       "                                           msno  is_churn city    bd  gender  \\\n",
       "0  waLDQMmcOu2jLDaV1ddDkgCrB/jl6sD66Xzs0Vqax1Y=         1   18  36.0  female   \n",
       "1  QA7uiXy8vIbUSPOkCf9RwQ3FsT8jVq2OxDr8zqa7bRQ=         1   10  38.0    male   \n",
       "2  fGwBva6hikQmTJzrbz/2Ezjm5Cth5jZUNvXigKK2AFA=         1   11  27.0  female   \n",
       "3  mT5V8rEpa+8wuqi6x0DoVd3H5icMKkE9Prt49UlmK+4=         1   13  23.0  female   \n",
       "4  XaPhtGLk/5UvvOYHcONTwsnH97P4eGECeq+BARGItRw=         1    3  27.0    male   \n",
       "\n",
       "  registered_via registration_init_time  \n",
       "0              9             2005-04-06  \n",
       "1              9             2005-04-07  \n",
       "2              9             2005-10-16  \n",
       "3              9             2005-11-02  \n",
       "4              9             2005-12-28  "
      ]
     },
     "execution_count": 213,
     "metadata": {},
     "output_type": "execute_result"
    }
   ],
   "source": [
    "pd_member_churn['registration_init_time'] = pd_member_churn.registration_init_time.apply(lambda x: datetime.strptime(str(int(x)), \"%Y%m%d\").date() if pd.notnull(x) else \"NAN\" )\n",
    "pd_member_churn.head()"
   ]
  },
  {
   "cell_type": "code",
   "execution_count": 238,
   "metadata": {},
   "outputs": [
    {
     "data": {
      "image/png": "[encoded data removed]",
      "text/plain": [
       "<Figure size 864x864 with 1 Axes>"
      ]
     },
     "metadata": {
      "needs_background": "light"
     },
     "output_type": "display_data"
    },
    {
     "name": "stdout",
     "output_type": "stream",
     "text": [
      "City Count [(1, 503285), ('NAN', 124203), (13, 115648), (5, 84955), (4, 56913), (15, 51714), (22, 50222), (6, 31186), (14, 23670), (12, 13871), (9, 11278), (11, 10823), (18, 9291), (8, 9211), (10, 7812), (17, 6413), (21, 6411), (3, 6085), (7, 3132), (16, 1104), (20, 793), (19, 160)]\n"
     ]
    }
   ],
   "source": [
    "plt.figure(figsize=(12,12))\n",
    "plt.subplot(411)\n",
    "city_order = pd_member_churn['city'].unique()\n",
    "city_order=sorted(city_order, key=lambda x: float(x))\n",
    "sns.countplot(x=\"city\", hue='is_churn',data=pd_member_churn , order = city_order)\n",
    "plt.ylabel('Count', fontsize=12)\n",
    "plt.xlabel('City', fontsize=12)\n",
    "plt.xticks(rotation='vertical')\n",
    "plt.title(\"Frequency of City Count\", fontsize=12)\n",
    "plt.show()"
   ]
  },
  {
   "cell_type": "code",
   "execution_count": 239,
   "metadata": {},
   "outputs": [
    {
     "data": {
      "image/png": "[encoded data removed]",
      "text/plain": [
       "<Figure size 864x864 with 1 Axes>"
      ]
     },
     "metadata": {
      "needs_background": "light"
     },
     "output_type": "display_data"
    }
   ],
   "source": [
    "#Registered Via Count\n",
    "plt.figure(figsize=(12,12))\n",
    "plt.subplot(412)\n",
    "R_V_order = pd_member_churn['registered_via'].unique()\n",
    "R_V_order = sorted(R_V_order, key=lambda x: str(x))\n",
    "R_V_order = sorted(R_V_order, key=lambda x: float(x))\n",
    "#above repetion of commands are very silly, but this was the only way I was able to diplay what I wanted\n",
    "sns.countplot(x=\"registered_via\", hue='is_churn',data=pd_member_churn,order = R_V_order)\n",
    "plt.ylabel('Count', fontsize=12)\n",
    "plt.xlabel('Registered Via', fontsize=12)\n",
    "plt.xticks(rotation='vertical')\n",
    "plt.title(\"Frequency of Registered Via Count\", fontsize=12)\n",
    "plt.show()"
   ]
  },
  {
   "cell_type": "code",
   "execution_count": 240,
   "metadata": {},
   "outputs": [
    {
     "data": {
      "image/png": "[encoded data removed]",
      "text/plain": [
       "<Figure size 864x864 with 1 Axes>"
      ]
     },
     "metadata": {
      "needs_background": "light"
     },
     "output_type": "display_data"
    }
   ],
   "source": [
    "plt.figure(figsize=(12,12))\n",
    "plt.subplot(413)\n",
    "sns.countplot(x=\"gender\", hue='is_churn',data=pd_member_churn)\n",
    "plt.ylabel('Count', fontsize=12)\n",
    "plt.xlabel('Gender', fontsize=12)\n",
    "plt.xticks(rotation='vertical')\n",
    "plt.title(\"Frequency of Gender Count\", fontsize=12)\n",
    "plt.show()"
   ]
  },
  {
   "cell_type": "code",
   "execution_count": 278,
   "metadata": {},
   "outputs": [
    {
     "data": {
      "image/png": "[encoded data removed]",
      "text/plain": [
       "<Figure size 864x288 with 1 Axes>"
      ]
     },
     "metadata": {
      "needs_background": "light"
     },
     "output_type": "display_data"
    }
   ],
   "source": [
    "pd_member_churn['registration_init_time_year'] = pd.DatetimeIndex(pd_member_churn['registration_init_time']).year\n",
    "pd_member_churn['registration_init_time_year'] = pd_member_churn.registration_init_time_year.apply(lambda x: int(x) if pd.notnull(x) else \"NAN\" )\n",
    "year_count_0=pd.DataFrame({'year':pd_member_churn[pd_member_churn['is_churn']==0]['registration_init_time_year'].value_counts().index,\n",
    "                           'year_count':pd_member_churn[pd_member_churn['is_churn']==0]['registration_init_time_year'].value_counts(),\n",
    "                           'is_churn': np.zeros(len(pd_member_churn[pd_member_churn['is_churn']==0]['registration_init_time_year'].value_counts()))})\n",
    "year_count_1=pd.DataFrame({'year':pd_member_churn[pd_member_churn['is_churn']==1]['registration_init_time_year'].value_counts().index,\n",
    "                           'year_count':pd_member_churn[pd_member_churn['is_churn']==1]['registration_init_time_year'].value_counts(),\n",
    "                           'is_churn': np.ones(len(pd_member_churn[pd_member_churn['is_churn']==1]['registration_init_time_year'].value_counts()))})\n",
    "year_count=pd.concat([year_count_0,year_count_1])\n",
    "\n",
    "plt.figure(figsize=(12,4))\n",
    "year_order = pd_member_churn['registration_init_time_year'].unique()\n",
    "year_order=sorted(year_order, key=lambda x: str(x))\n",
    "year_order = sorted(year_order, key=lambda x: float(x))\n",
    "sns.countplot(x='registration_init_time_year', hue='is_churn',data=pd_member_churn,order=year_order)\n",
    "plt.ylabel('Count', fontsize=12)\n",
    "plt.xlabel('Year', fontsize=12)\n",
    "plt.xticks(rotation='vertical')\n",
    "plt.title(\"Yearly Trend of registration_init_time\", fontsize=12)\n",
    "plt.show()"
   ]
  },
  {
   "cell_type": "code",
   "execution_count": 280,
   "metadata": {},
   "outputs": [
    {
     "data": {
      "image/png": "[encoded data removed]",
      "text/plain": [
       "<Figure size 864x288 with 1 Axes>"
      ]
     },
     "metadata": {
      "needs_background": "light"
     },
     "output_type": "display_data"
    }
   ],
   "source": [
    "pd_member_churn['registration_init_time_month'] = pd_member_churn.registration_init_time_month.apply(lambda x: int(x) if pd.notnull(x) else \"NAN\" )\n",
    "\n",
    "plt.figure(figsize=(12,4))\n",
    "month_order = pd_member_churn['registration_init_time_month'].unique()\n",
    "month_order=sorted(month_order, key=lambda x: str(x))\n",
    "month_order = sorted(month_order, key=lambda x: float(x))\n",
    "sns.countplot(x='registration_init_time_month', hue='is_churn',data=pd_member_churn,order=month_order)\n",
    "plt.ylabel('Count', fontsize=12)\n",
    "plt.xlabel('Year', fontsize=12)\n",
    "plt.xticks(rotation='vertical')\n",
    "plt.title(\"Monthly Trend of registration_init_time\", fontsize=12)\n",
    "plt.show()"
   ]
  },
  {
   "cell_type": "code",
   "execution_count": 281,
   "metadata": {
    "collapsed": true,
    "jupyter": {
     "outputs_hidden": true
    }
   },
   "outputs": [
    {
     "ename": "ValueError",
     "evalue": "could not convert string to float: 'Friday'",
     "output_type": "error",
     "traceback": [
      "\u001b[1;31m---------------------------------------------------------------------------\u001b[0m",
      "\u001b[1;31mValueError\u001b[0m                                Traceback (most recent call last)",
      "\u001b[1;32m<ipython-input-281-b1a1fec8937f>\u001b[0m in \u001b[0;36m<module>\u001b[1;34m\u001b[0m\n\u001b[0;32m      5\u001b[0m \u001b[0mweekday_order\u001b[0m \u001b[1;33m=\u001b[0m \u001b[0mpd_member_churn\u001b[0m\u001b[1;33m[\u001b[0m\u001b[1;34m'registration_init_time_weekday'\u001b[0m\u001b[1;33m]\u001b[0m\u001b[1;33m.\u001b[0m\u001b[0munique\u001b[0m\u001b[1;33m(\u001b[0m\u001b[1;33m)\u001b[0m\u001b[1;33m\u001b[0m\u001b[1;33m\u001b[0m\u001b[0m\n\u001b[0;32m      6\u001b[0m \u001b[0mweekday_order\u001b[0m\u001b[1;33m=\u001b[0m\u001b[0msorted\u001b[0m\u001b[1;33m(\u001b[0m\u001b[0mweekday_order\u001b[0m\u001b[1;33m,\u001b[0m \u001b[0mkey\u001b[0m\u001b[1;33m=\u001b[0m\u001b[1;32mlambda\u001b[0m \u001b[0mx\u001b[0m\u001b[1;33m:\u001b[0m \u001b[0mstr\u001b[0m\u001b[1;33m(\u001b[0m\u001b[0mx\u001b[0m\u001b[1;33m)\u001b[0m\u001b[1;33m)\u001b[0m\u001b[1;33m\u001b[0m\u001b[1;33m\u001b[0m\u001b[0m\n\u001b[1;32m----> 7\u001b[1;33m \u001b[0mweekday_order\u001b[0m \u001b[1;33m=\u001b[0m \u001b[0msorted\u001b[0m\u001b[1;33m(\u001b[0m\u001b[0mweekday_order\u001b[0m\u001b[1;33m,\u001b[0m \u001b[0mkey\u001b[0m\u001b[1;33m=\u001b[0m\u001b[1;32mlambda\u001b[0m \u001b[0mx\u001b[0m\u001b[1;33m:\u001b[0m \u001b[0mfloat\u001b[0m\u001b[1;33m(\u001b[0m\u001b[0mx\u001b[0m\u001b[1;33m)\u001b[0m\u001b[1;33m)\u001b[0m\u001b[1;33m\u001b[0m\u001b[1;33m\u001b[0m\u001b[0m\n\u001b[0m\u001b[0;32m      8\u001b[0m \u001b[0msns\u001b[0m\u001b[1;33m.\u001b[0m\u001b[0mcountplot\u001b[0m\u001b[1;33m(\u001b[0m\u001b[0mx\u001b[0m\u001b[1;33m=\u001b[0m\u001b[1;34m'registration_init_time_weekday'\u001b[0m\u001b[1;33m,\u001b[0m \u001b[0mhue\u001b[0m\u001b[1;33m=\u001b[0m\u001b[1;34m'is_churn'\u001b[0m\u001b[1;33m,\u001b[0m\u001b[0mdata\u001b[0m\u001b[1;33m=\u001b[0m\u001b[0mpd_member_churn\u001b[0m\u001b[1;33m,\u001b[0m\u001b[0morder\u001b[0m\u001b[1;33m=\u001b[0m\u001b[0mmonth_order\u001b[0m\u001b[1;33m)\u001b[0m\u001b[1;33m\u001b[0m\u001b[1;33m\u001b[0m\u001b[0m\n\u001b[0;32m      9\u001b[0m \u001b[0mplt\u001b[0m\u001b[1;33m.\u001b[0m\u001b[0mylabel\u001b[0m\u001b[1;33m(\u001b[0m\u001b[1;34m'Count'\u001b[0m\u001b[1;33m,\u001b[0m \u001b[0mfontsize\u001b[0m\u001b[1;33m=\u001b[0m\u001b[1;36m12\u001b[0m\u001b[1;33m)\u001b[0m\u001b[1;33m\u001b[0m\u001b[1;33m\u001b[0m\u001b[0m\n",
      "\u001b[1;32m<ipython-input-281-b1a1fec8937f>\u001b[0m in \u001b[0;36m<lambda>\u001b[1;34m(x)\u001b[0m\n\u001b[0;32m      5\u001b[0m \u001b[0mweekday_order\u001b[0m \u001b[1;33m=\u001b[0m \u001b[0mpd_member_churn\u001b[0m\u001b[1;33m[\u001b[0m\u001b[1;34m'registration_init_time_weekday'\u001b[0m\u001b[1;33m]\u001b[0m\u001b[1;33m.\u001b[0m\u001b[0munique\u001b[0m\u001b[1;33m(\u001b[0m\u001b[1;33m)\u001b[0m\u001b[1;33m\u001b[0m\u001b[1;33m\u001b[0m\u001b[0m\n\u001b[0;32m      6\u001b[0m \u001b[0mweekday_order\u001b[0m\u001b[1;33m=\u001b[0m\u001b[0msorted\u001b[0m\u001b[1;33m(\u001b[0m\u001b[0mweekday_order\u001b[0m\u001b[1;33m,\u001b[0m \u001b[0mkey\u001b[0m\u001b[1;33m=\u001b[0m\u001b[1;32mlambda\u001b[0m \u001b[0mx\u001b[0m\u001b[1;33m:\u001b[0m \u001b[0mstr\u001b[0m\u001b[1;33m(\u001b[0m\u001b[0mx\u001b[0m\u001b[1;33m)\u001b[0m\u001b[1;33m)\u001b[0m\u001b[1;33m\u001b[0m\u001b[1;33m\u001b[0m\u001b[0m\n\u001b[1;32m----> 7\u001b[1;33m \u001b[0mweekday_order\u001b[0m \u001b[1;33m=\u001b[0m \u001b[0msorted\u001b[0m\u001b[1;33m(\u001b[0m\u001b[0mweekday_order\u001b[0m\u001b[1;33m,\u001b[0m \u001b[0mkey\u001b[0m\u001b[1;33m=\u001b[0m\u001b[1;32mlambda\u001b[0m \u001b[0mx\u001b[0m\u001b[1;33m:\u001b[0m \u001b[0mfloat\u001b[0m\u001b[1;33m(\u001b[0m\u001b[0mx\u001b[0m\u001b[1;33m)\u001b[0m\u001b[1;33m)\u001b[0m\u001b[1;33m\u001b[0m\u001b[1;33m\u001b[0m\u001b[0m\n\u001b[0m\u001b[0;32m      8\u001b[0m \u001b[0msns\u001b[0m\u001b[1;33m.\u001b[0m\u001b[0mcountplot\u001b[0m\u001b[1;33m(\u001b[0m\u001b[0mx\u001b[0m\u001b[1;33m=\u001b[0m\u001b[1;34m'registration_init_time_weekday'\u001b[0m\u001b[1;33m,\u001b[0m \u001b[0mhue\u001b[0m\u001b[1;33m=\u001b[0m\u001b[1;34m'is_churn'\u001b[0m\u001b[1;33m,\u001b[0m\u001b[0mdata\u001b[0m\u001b[1;33m=\u001b[0m\u001b[0mpd_member_churn\u001b[0m\u001b[1;33m,\u001b[0m\u001b[0morder\u001b[0m\u001b[1;33m=\u001b[0m\u001b[0mmonth_order\u001b[0m\u001b[1;33m)\u001b[0m\u001b[1;33m\u001b[0m\u001b[1;33m\u001b[0m\u001b[0m\n\u001b[0;32m      9\u001b[0m \u001b[0mplt\u001b[0m\u001b[1;33m.\u001b[0m\u001b[0mylabel\u001b[0m\u001b[1;33m(\u001b[0m\u001b[1;34m'Count'\u001b[0m\u001b[1;33m,\u001b[0m \u001b[0mfontsize\u001b[0m\u001b[1;33m=\u001b[0m\u001b[1;36m12\u001b[0m\u001b[1;33m)\u001b[0m\u001b[1;33m\u001b[0m\u001b[1;33m\u001b[0m\u001b[0m\n",
      "\u001b[1;31mValueError\u001b[0m: could not convert string to float: 'Friday'"
     ]
    },
    {
     "data": {
      "text/plain": [
       "<Figure size 864x288 with 0 Axes>"
      ]
     },
     "metadata": {},
     "output_type": "display_data"
    }
   ],
   "source": [
    "pd_member_churn['registration_init_time_weekday'] = pd.DatetimeIndex(pd_member_churn['registration_init_time']).weekday_name\n",
    "pd_member_churn['registration_init_time_weekday'] = pd_member_churn.registration_init_time_weekday.apply(lambda x: str(x) if pd.notnull(x) else \"NAN\" )\n",
    "\n",
    "plt.figure(figsize=(12,4))\n",
    "weekday_order = pd_member_churn['registration_init_time_weekday'].unique()\n",
    "weekday_order=sorted(weekday_order, key=lambda x: str(x))\n",
    "weekday_order = sorted(weekday_order, key=lambda x: float(x))\n",
    "sns.countplot(x='registration_init_time_weekday', hue='is_churn',data=pd_member_churn,order=month_order)\n",
    "plt.ylabel('Count', fontsize=12)\n",
    "plt.xlabel('Year', fontsize=12)\n",
    "plt.xticks(rotation='vertical')\n",
    "plt.title(\"Daily Trend of registration_init_time\", fontsize=12)\n",
    "plt.show()"
   ]
  },
  {
   "cell_type": "code",
   "execution_count": 242,
   "metadata": {},
   "outputs": [
    {
     "ename": "SyntaxError",
     "evalue": "positional argument follows keyword argument (<ipython-input-242-c7c854ff062d>, line 11)",
     "output_type": "error",
     "traceback": [
      "\u001b[1;36m  File \u001b[1;32m\"<ipython-input-242-c7c854ff062d>\"\u001b[1;36m, line \u001b[1;32m11\u001b[0m\n\u001b[1;33m    sns.barplot(year_count.index, hue='is_churn',year_count.values,order=year_order)\u001b[0m\n\u001b[1;37m                                                ^\u001b[0m\n\u001b[1;31mSyntaxError\u001b[0m\u001b[1;31m:\u001b[0m positional argument follows keyword argument\n"
     ]
    }
   ],
   "source": [
    "\n",
    "#registration_init_time day wise trend\n",
    "training['registration_init_time_weekday'] = pd.DatetimeIndex(training['registration_init_time']).weekday_name\n",
    "training['registration_init_time_weekday'] = training.registration_init_time_weekday.apply(lambda x: str(x) if pd.notnull(x) else \"NAN\" )\n",
    "day_count=training['registration_init_time_weekday'].value_counts()\n",
    "plt.figure(figsize=(12,12))\n",
    "plt.subplot(313)\n",
    "#day_order = training['registration_init_time_day'].unique()\n",
    "day_order = ['Monday','Tuesday','Wednesday','Thursday','Friday','Saturday','Sunday','NAN']\n",
    "sns.barplot(day_count.index, day_count.values,order=day_order)\n",
    "plt.ylabel('Count', fontsize=12)\n",
    "plt.xlabel('Day', fontsize=12)\n",
    "plt.xticks(rotation='vertical')\n",
    "plt.title(\"Day-wise Trend of registration_init_time\", fontsize=12)\n",
    "plt.show()\n",
    "day_count_2 = Counter(training['registration_init_time_weekday']).most_common()\n",
    "print(\"Day-wise Count \" +str(day_count_2))"
   ]
  },
  {
   "cell_type": "code",
   "execution_count": 188,
   "metadata": {},
   "outputs": [
    {
     "name": "stdout",
     "output_type": "stream",
     "text": [
      "(22978755, 9)\n",
      "(22975416, 9)\n",
      "(17858127, 9)\n"
     ]
    },
    {
     "data": {
      "text/html": [
       "<div>\n",
       "<style scoped>\n",
       "    .dataframe tbody tr th:only-of-type {\n",
       "        vertical-align: middle;\n",
       "    }\n",
       "\n",
       "    .dataframe tbody tr th {\n",
       "        vertical-align: top;\n",
       "    }\n",
       "\n",
       "    .dataframe thead th {\n",
       "        text-align: right;\n",
       "    }\n",
       "</style>\n",
       "<table border=\"1\" class=\"dataframe\">\n",
       "  <thead>\n",
       "    <tr style=\"text-align: right;\">\n",
       "      <th></th>\n",
       "      <th>msno</th>\n",
       "      <th>payment_method_id</th>\n",
       "      <th>payment_plan_days</th>\n",
       "      <th>plan_list_price</th>\n",
       "      <th>actual_amount_paid</th>\n",
       "      <th>is_auto_renew</th>\n",
       "      <th>transaction_date</th>\n",
       "      <th>membership_expire_date</th>\n",
       "      <th>is_cancel</th>\n",
       "    </tr>\n",
       "  </thead>\n",
       "  <tbody>\n",
       "    <tr>\n",
       "      <td>0</td>\n",
       "      <td>YyO+tlZtAXYXoZhNr3Vg3+dfVQvrBVGO8j1mfqe4ZHc=</td>\n",
       "      <td>41</td>\n",
       "      <td>30</td>\n",
       "      <td>129</td>\n",
       "      <td>129</td>\n",
       "      <td>1</td>\n",
       "      <td>20150930</td>\n",
       "      <td>20151101</td>\n",
       "      <td>0</td>\n",
       "    </tr>\n",
       "    <tr>\n",
       "      <td>1</td>\n",
       "      <td>AZtu6Wl0gPojrEQYB8Q3vBSmE2wnZ3hi1FbK1rQQ0A4=</td>\n",
       "      <td>41</td>\n",
       "      <td>30</td>\n",
       "      <td>149</td>\n",
       "      <td>149</td>\n",
       "      <td>1</td>\n",
       "      <td>20150930</td>\n",
       "      <td>20151031</td>\n",
       "      <td>0</td>\n",
       "    </tr>\n",
       "    <tr>\n",
       "      <td>4</td>\n",
       "      <td>yvj6zyBUaqdbUQSrKsrZ+xNDVM62knauSZJzakS9OW4=</td>\n",
       "      <td>39</td>\n",
       "      <td>30</td>\n",
       "      <td>149</td>\n",
       "      <td>149</td>\n",
       "      <td>1</td>\n",
       "      <td>20150930</td>\n",
       "      <td>20151121</td>\n",
       "      <td>0</td>\n",
       "    </tr>\n",
       "    <tr>\n",
       "      <td>5</td>\n",
       "      <td>KN7I82kjY0Tn76Ny95ncqBUVbO7b8AXrOPqZutKpxIM=</td>\n",
       "      <td>21</td>\n",
       "      <td>30</td>\n",
       "      <td>149</td>\n",
       "      <td>149</td>\n",
       "      <td>1</td>\n",
       "      <td>20150930</td>\n",
       "      <td>20151107</td>\n",
       "      <td>0</td>\n",
       "    </tr>\n",
       "    <tr>\n",
       "      <td>6</td>\n",
       "      <td>m5ptKif9BjdUghHXXomSezy5ohJiHm85PE13f/3kQaw=</td>\n",
       "      <td>39</td>\n",
       "      <td>30</td>\n",
       "      <td>149</td>\n",
       "      <td>149</td>\n",
       "      <td>1</td>\n",
       "      <td>20150930</td>\n",
       "      <td>20151128</td>\n",
       "      <td>0</td>\n",
       "    </tr>\n",
       "    <tr>\n",
       "      <td>...</td>\n",
       "      <td>...</td>\n",
       "      <td>...</td>\n",
       "      <td>...</td>\n",
       "      <td>...</td>\n",
       "      <td>...</td>\n",
       "      <td>...</td>\n",
       "      <td>...</td>\n",
       "      <td>...</td>\n",
       "      <td>...</td>\n",
       "    </tr>\n",
       "    <tr>\n",
       "      <td>1431003</td>\n",
       "      <td>zviO0RLvsXAzgz894wMm5b9Nxp8yxFAuqHY1Nq0lq3M=</td>\n",
       "      <td>36</td>\n",
       "      <td>30</td>\n",
       "      <td>180</td>\n",
       "      <td>180</td>\n",
       "      <td>1</td>\n",
       "      <td>20170316</td>\n",
       "      <td>20170415</td>\n",
       "      <td>0</td>\n",
       "    </tr>\n",
       "    <tr>\n",
       "      <td>1431004</td>\n",
       "      <td>zwF50wwaJI2TBKWhB42HRBJ6EQK0jgSo1Xmwb9Jq3SU=</td>\n",
       "      <td>32</td>\n",
       "      <td>180</td>\n",
       "      <td>536</td>\n",
       "      <td>536</td>\n",
       "      <td>0</td>\n",
       "      <td>20170215</td>\n",
       "      <td>20170817</td>\n",
       "      <td>0</td>\n",
       "    </tr>\n",
       "    <tr>\n",
       "      <td>1431005</td>\n",
       "      <td>zx/h5MzQQmsSat04wSfGpHp6N8aWLLwM1+7OV7ujmPY=</td>\n",
       "      <td>41</td>\n",
       "      <td>30</td>\n",
       "      <td>149</td>\n",
       "      <td>149</td>\n",
       "      <td>1</td>\n",
       "      <td>20170306</td>\n",
       "      <td>20170406</td>\n",
       "      <td>0</td>\n",
       "    </tr>\n",
       "    <tr>\n",
       "      <td>1431006</td>\n",
       "      <td>zxvgjIKjy18Fm+cIWUfYKr68z09+ILBxuMW0DnbeUZ8=</td>\n",
       "      <td>41</td>\n",
       "      <td>30</td>\n",
       "      <td>99</td>\n",
       "      <td>99</td>\n",
       "      <td>1</td>\n",
       "      <td>20170308</td>\n",
       "      <td>20170408</td>\n",
       "      <td>0</td>\n",
       "    </tr>\n",
       "    <tr>\n",
       "      <td>1431007</td>\n",
       "      <td>zzNhkExbpzmpjp9tXefiCUBtgNLgS+vZE7fFfTRDJVc=</td>\n",
       "      <td>38</td>\n",
       "      <td>30</td>\n",
       "      <td>149</td>\n",
       "      <td>149</td>\n",
       "      <td>0</td>\n",
       "      <td>20170318</td>\n",
       "      <td>20170417</td>\n",
       "      <td>0</td>\n",
       "    </tr>\n",
       "  </tbody>\n",
       "</table>\n",
       "<p>17858127 rows × 9 columns</p>\n",
       "</div>"
      ],
      "text/plain": [
       "                                                 msno  payment_method_id  \\\n",
       "0        YyO+tlZtAXYXoZhNr3Vg3+dfVQvrBVGO8j1mfqe4ZHc=                 41   \n",
       "1        AZtu6Wl0gPojrEQYB8Q3vBSmE2wnZ3hi1FbK1rQQ0A4=                 41   \n",
       "4        yvj6zyBUaqdbUQSrKsrZ+xNDVM62knauSZJzakS9OW4=                 39   \n",
       "5        KN7I82kjY0Tn76Ny95ncqBUVbO7b8AXrOPqZutKpxIM=                 21   \n",
       "6        m5ptKif9BjdUghHXXomSezy5ohJiHm85PE13f/3kQaw=                 39   \n",
       "...                                               ...                ...   \n",
       "1431003  zviO0RLvsXAzgz894wMm5b9Nxp8yxFAuqHY1Nq0lq3M=                 36   \n",
       "1431004  zwF50wwaJI2TBKWhB42HRBJ6EQK0jgSo1Xmwb9Jq3SU=                 32   \n",
       "1431005  zx/h5MzQQmsSat04wSfGpHp6N8aWLLwM1+7OV7ujmPY=                 41   \n",
       "1431006  zxvgjIKjy18Fm+cIWUfYKr68z09+ILBxuMW0DnbeUZ8=                 41   \n",
       "1431007  zzNhkExbpzmpjp9tXefiCUBtgNLgS+vZE7fFfTRDJVc=                 38   \n",
       "\n",
       "         payment_plan_days  plan_list_price  actual_amount_paid  \\\n",
       "0                       30              129                 129   \n",
       "1                       30              149                 149   \n",
       "4                       30              149                 149   \n",
       "5                       30              149                 149   \n",
       "6                       30              149                 149   \n",
       "...                    ...              ...                 ...   \n",
       "1431003                 30              180                 180   \n",
       "1431004                180              536                 536   \n",
       "1431005                 30              149                 149   \n",
       "1431006                 30               99                  99   \n",
       "1431007                 30              149                 149   \n",
       "\n",
       "         is_auto_renew  transaction_date  membership_expire_date  is_cancel  \n",
       "0                    1          20150930                20151101          0  \n",
       "1                    1          20150930                20151031          0  \n",
       "4                    1          20150930                20151121          0  \n",
       "5                    1          20150930                20151107          0  \n",
       "6                    1          20150930                20151128          0  \n",
       "...                ...               ...                     ...        ...  \n",
       "1431003              1          20170316                20170415          0  \n",
       "1431004              0          20170215                20170817          0  \n",
       "1431005              1          20170306                20170406          0  \n",
       "1431006              1          20170308                20170408          0  \n",
       "1431007              0          20170318                20170417          0  \n",
       "\n",
       "[17858127 rows x 9 columns]"
      ]
     },
     "execution_count": 188,
     "metadata": {},
     "output_type": "execute_result"
    }
   ],
   "source": [
    "pd_trans_all=pd.concat([pd_trans,pd_trans_v2])\n",
    "print(pd_trans_all.shape)\n",
    "pd_trans_all=pd_trans_all.drop_duplicates()\n",
    "print(pd_trans_all.shape)\n",
    "pd_trans_clean=pd_trans_all[pd_trans_all['msno'].isin(pd_distinct_id)]\n",
    "print(pd_trans_clean.shape)\n",
    "pd_trans_clean"
   ]
  },
  {
   "cell_type": "code",
   "execution_count": 189,
   "metadata": {},
   "outputs": [
    {
     "data": {
      "text/plain": [
       "count                                         17858127\n",
       "unique                                         1143472\n",
       "top       72gJqt1O31E/WoxAEYFn9LHNI6mAZFGera5Q6gvsFkA=\n",
       "freq                                               244\n",
       "Name: msno, dtype: object"
      ]
     },
     "execution_count": 189,
     "metadata": {},
     "output_type": "execute_result"
    }
   ],
   "source": [
    "pd_trans_clean['msno'].describe()"
   ]
  },
  {
   "cell_type": "code",
   "execution_count": 2,
   "metadata": {},
   "outputs": [],
   "source": [
    "sqlContext = SQLContext(sc)\n",
    "#spark=SparkSession.builder.config(\"spark.default.parallelism\", 4000).appName(\"taSpark\").getOrCreate()\n",
    "sc =SparkContext()"
   ]
  },
  {
   "cell_type": "code",
   "execution_count": 3,
   "metadata": {},
   "outputs": [
    {
     "name": "stdout",
     "output_type": "stream",
     "text": [
      "+--------------------+--------+\n",
      "|                msno|is_churn|\n",
      "+--------------------+--------+\n",
      "|waLDQMmcOu2jLDaV1...|       1|\n",
      "|QA7uiXy8vIbUSPOkC...|       1|\n",
      "|fGwBva6hikQmTJzrb...|       1|\n",
      "|mT5V8rEpa+8wuqi6x...|       1|\n",
      "|XaPhtGLk/5UvvOYHc...|       1|\n",
      "|GBy8qSz16X5iYWD+3...|       1|\n",
      "|lYLh7TdkWpIoQs3i3...|       1|\n",
      "|T0FF6lumjKcqEO0O+...|       1|\n",
      "|Nb1ZGEmagQeba5E+n...|       1|\n",
      "|MkuWz0Nq6/Oq5fKqR...|       1|\n",
      "|I8dFN2EjFN1mt4Xel...|       1|\n",
      "|0Ip2rzeoa44alqEw3...|       1|\n",
      "|piVhWxrWDmiNQFY6x...|       1|\n",
      "|wEUOkYvyz3xTOx2p9...|       1|\n",
      "|xt4EjWRyXBMgEgKBJ...|       1|\n",
      "|QS3ob4zLlWcWzBIlb...|       1|\n",
      "|9iW/UpqRoviya9CQh...|       1|\n",
      "|d7QVMhAzjj4yc1Ojj...|       1|\n",
      "|uV7rJjHPrpNssDMmY...|       1|\n",
      "|TZxhkfZ9NwxqnUrNs...|       1|\n",
      "+--------------------+--------+\n",
      "only showing top 20 rows\n",
      "\n"
     ]
    }
   ],
   "source": [
    "train = sqlContext.read.format('com.databricks.spark.csv').options(header='true', \n",
    "inferschema='true').load('train.csv')\n",
    "train.show()"
   ]
  },
  {
   "cell_type": "code",
   "execution_count": 4,
   "metadata": {},
   "outputs": [
    {
     "name": "stdout",
     "output_type": "stream",
     "text": [
      "+-------+--------------------+-------------------+\n",
      "|summary|                msno|           is_churn|\n",
      "+-------+--------------------+-------------------+\n",
      "|  count|              992931|             992931|\n",
      "|   mean|                null|0.06392287077349786|\n",
      "| stddev|                null|0.24461561198821244|\n",
      "|    min|+++hVY1rZox/33Ytv...|                  0|\n",
      "|    max|zzzN9thH22os1dRS0...|                  1|\n",
      "+-------+--------------------+-------------------+\n",
      "\n"
     ]
    }
   ],
   "source": [
    "train.describe(traixixikuain.columns).show()"
   ]
  },
  {
   "cell_type": "code",
   "execution_count": 125,
   "metadata": {},
   "outputs": [
    {
     "name": "stdout",
     "output_type": "stream",
     "text": [
      "(992931, 2)\n",
      "msno 0\n",
      "is_churn 0\n",
      "992931\n"
     ]
    }
   ],
   "source": [
    "print((train.count(), len(train.columns)))\n",
    "for i in train.columns:\n",
    "    print(i,train.where(train[i].isNull()).count())\n",
    "print(train.select(['msno']).distinct().count())"
   ]
  },
  {
   "cell_type": "code",
   "execution_count": 9,
   "metadata": {},
   "outputs": [
    {
     "name": "stdout",
     "output_type": "stream",
     "text": [
      "+--------------------+--------+\n",
      "|                msno|is_churn|\n",
      "+--------------------+--------+\n",
      "|ugx0CjOMzazClkFzU...|       1|\n",
      "|f/NmvEzHfhINFEYZT...|       1|\n",
      "|zLo9f73nGGT1p21lt...|       1|\n",
      "|8iF/+8HY8lJKFrTc7...|       1|\n",
      "|K6fja4+jmoZ5xG6By...|       1|\n",
      "|ibIHVYBqxGwrSExE6...|       1|\n",
      "|kVmM8X4iBPCOfK/m1...|       1|\n",
      "|moRTKhKIDvb+C8ZHO...|       1|\n",
      "|dW/tPZMDh2Oz/ksdu...|       1|\n",
      "|otEcMhAX3mU4gumUS...|       1|\n",
      "|t5rqTxCnG7s5VBgEf...|       1|\n",
      "|dfLS2/Pom6O3iUpo+...|       1|\n",
      "|a7AtvhlY8KnKZGpiV...|       1|\n",
      "|F45GsXJIeLvzUJqz/...|       1|\n",
      "|SJCoxreWp6Cu9WPit...|       1|\n",
      "|Oo2RDQixJ0pRWqec4...|       1|\n",
      "|f91n3lDipDjRtAVNg...|       1|\n",
      "|/L2095JD4M/BNLTCb...|       1|\n",
      "|1AzXWFlRO6EfMBzfB...|       1|\n",
      "|WkF/FvlzpBLFoa+Hm...|       1|\n",
      "+--------------------+--------+\n",
      "only showing top 20 rows\n",
      "\n"
     ]
    }
   ],
   "source": [
    "train_v2 = sqlContext.read.format('com.databricks.spark.csv').options(header='true', \n",
    "inferschema='true').load('train_v2.csv')\n",
    "train_v2.show()"
   ]
  },
  {
   "cell_type": "code",
   "execution_count": 31,
   "metadata": {},
   "outputs": [
    {
     "name": "stdout",
     "output_type": "stream",
     "text": [
      "+-------+--------------------+-------------------+\n",
      "|summary|                msno|           is_churn|\n",
      "+-------+--------------------+-------------------+\n",
      "|  count|              970960|             970960|\n",
      "|   mean|                null|0.08994191315811156|\n",
      "| stddev|                null| 0.2860986712938504|\n",
      "|    min|+++hVY1rZox/33Ytv...|                  0|\n",
      "|    max|zzzF1KsGfHH3qI6qi...|                  1|\n",
      "+-------+--------------------+-------------------+\n",
      "\n"
     ]
    }
   ],
   "source": [
    "train_v2.describe(train_v2.columns).show()"
   ]
  },
  {
   "cell_type": "code",
   "execution_count": 127,
   "metadata": {},
   "outputs": [
    {
     "name": "stdout",
     "output_type": "stream",
     "text": [
      "(970960, 2)\n",
      "msno 0\n",
      "is_churn 0\n",
      "970960\n"
     ]
    }
   ],
   "source": [
    "print((train_v2.count(), len(train_v2.columns)))\n",
    "for i in train_v2.columns:\n",
    "    print(i,train_v2.where(train_v2[i].isNull()).count())\n",
    "print(train_v2.select(['msno']).distinct().count())"
   ]
  },
  {
   "cell_type": "code",
   "execution_count": null,
   "metadata": {},
   "outputs": [],
   "source": []
  },
  {
   "cell_type": "code",
   "execution_count": 10,
   "metadata": {},
   "outputs": [
    {
     "name": "stdout",
     "output_type": "stream",
     "text": [
      "+--------------------+--------+\n",
      "|                msno|is_churn|\n",
      "+--------------------+--------+\n",
      "|ugx0CjOMzazClkFzU...|       0|\n",
      "|f/NmvEzHfhINFEYZT...|       0|\n",
      "|zLo9f73nGGT1p21lt...|       0|\n",
      "|8iF/+8HY8lJKFrTc7...|       0|\n",
      "|K6fja4+jmoZ5xG6By...|       0|\n",
      "|ibIHVYBqxGwrSExE6...|       0|\n",
      "|kVmM8X4iBPCOfK/m1...|       0|\n",
      "|moRTKhKIDvb+C8ZHO...|       0|\n",
      "|dW/tPZMDh2Oz/ksdu...|       0|\n",
      "|otEcMhAX3mU4gumUS...|       0|\n",
      "|t5rqTxCnG7s5VBgEf...|       0|\n",
      "|dfLS2/Pom6O3iUpo+...|       0|\n",
      "|a7AtvhlY8KnKZGpiV...|       0|\n",
      "|F45GsXJIeLvzUJqz/...|       0|\n",
      "|SJCoxreWp6Cu9WPit...|       0|\n",
      "|Oo2RDQixJ0pRWqec4...|       0|\n",
      "|f91n3lDipDjRtAVNg...|       0|\n",
      "|/L2095JD4M/BNLTCb...|       0|\n",
      "|1AzXWFlRO6EfMBzfB...|       0|\n",
      "|WkF/FvlzpBLFoa+Hm...|       0|\n",
      "+--------------------+--------+\n",
      "only showing top 20 rows\n",
      "\n"
     ]
    }
   ],
   "source": [
    "sub = sqlContext.read.format('com.databricks.spark.csv').options(header='true', \n",
    "inferschema='true').load('sample_submission_zero.csv')\n",
    "sub.show()"
   ]
  },
  {
   "cell_type": "code",
   "execution_count": 33,
   "metadata": {},
   "outputs": [
    {
     "name": "stdout",
     "output_type": "stream",
     "text": [
      "+-------+--------------------+--------+\n",
      "|summary|                msno|is_churn|\n",
      "+-------+--------------------+--------+\n",
      "|  count|              970960|  970960|\n",
      "|   mean|                null|     0.0|\n",
      "| stddev|                null|     0.0|\n",
      "|    min|+++hVY1rZox/33Ytv...|       0|\n",
      "|    max|zzzF1KsGfHH3qI6qi...|       0|\n",
      "+-------+--------------------+--------+\n",
      "\n"
     ]
    }
   ],
   "source": [
    "sub.describe(sub.columns).show()"
   ]
  },
  {
   "cell_type": "code",
   "execution_count": 34,
   "metadata": {},
   "outputs": [
    {
     "name": "stdout",
     "output_type": "stream",
     "text": [
      "(970960, 2)\n",
      "msno 0\n",
      "is_churn 0\n"
     ]
    }
   ],
   "source": [
    "print((sub.count(), len(sub.columns)))\n",
    "for i in sub.columns:\n",
    "    print(i,sub.where(sub[i].isNull()).count())"
   ]
  },
  {
   "cell_type": "code",
   "execution_count": 11,
   "metadata": {},
   "outputs": [
    {
     "name": "stdout",
     "output_type": "stream",
     "text": [
      "+--------------------+--------+\n",
      "|                msno|is_churn|\n",
      "+--------------------+--------+\n",
      "|4n+fXlyJvfQnTeKXT...|       0|\n",
      "|aNmbC1GvFUxQyQUid...|       0|\n",
      "|rFC9eSG/tMuzpre6c...|       0|\n",
      "|WZ59dLyrQcE7ft06M...|       0|\n",
      "|aky/Iv8hMp1/V/yQH...|       0|\n",
      "|nu1jZ/flvSaXRg0U9...|       0|\n",
      "|biDTtgK83fEWXJDax...|       0|\n",
      "|k/8uwi/iM9LZmRAIW...|       0|\n",
      "|18rQ/746SjA6nBx32...|       0|\n",
      "|2V13OCoWx6vqKr/Zz...|       0|\n",
      "|1l/ZwduFxS/q/hZey...|       0|\n",
      "|azfnO16ZeQsbJF6Lc...|       0|\n",
      "|RPOzeEr8mSbhj6wrF...|       0|\n",
      "|NAzfjSM2EOyFhV4rI...|       0|\n",
      "|1DCd06ON0rWFHI1bN...|       0|\n",
      "|D9QAV8ZNF8qU96dTB...|       0|\n",
      "|5HKzLDUVVbIxWMH9a...|       0|\n",
      "|XwnlNj6nq2MMHe0Ko...|       0|\n",
      "|lNmNPLZZiMwVbRFdB...|       0|\n",
      "|5NlNga4bsKiYyj3B3...|       0|\n",
      "+--------------------+--------+\n",
      "only showing top 20 rows\n",
      "\n"
     ]
    }
   ],
   "source": [
    "sub_v2 = sqlContext.read.format('com.databricks.spark.csv').options(header='true', \n",
    "inferschema='true').load('sample_submission_v2.csv')\n",
    "sub_v2.show()"
   ]
  },
  {
   "cell_type": "code",
   "execution_count": 35,
   "metadata": {},
   "outputs": [
    {
     "name": "stdout",
     "output_type": "stream",
     "text": [
      "+-------+--------------------+--------+\n",
      "|summary|                msno|is_churn|\n",
      "+-------+--------------------+--------+\n",
      "|  count|              907471|  907471|\n",
      "|   mean|                null|     0.0|\n",
      "| stddev|                null|     0.0|\n",
      "|    min|+++hVY1rZox/33Ytv...|       0|\n",
      "|    max|zzzF1KsGfHH3qI6qi...|       0|\n",
      "+-------+--------------------+--------+\n",
      "\n"
     ]
    }
   ],
   "source": [
    "sub_v2.describe(sub_v2.columns).show()"
   ]
  },
  {
   "cell_type": "code",
   "execution_count": 36,
   "metadata": {},
   "outputs": [
    {
     "name": "stdout",
     "output_type": "stream",
     "text": [
      "(907471, 2)\n",
      "msno 0\n",
      "is_churn 0\n"
     ]
    }
   ],
   "source": [
    "print((sub_v2.count(), len(sub_v2.columns)))\n",
    "for i in sub_v2.columns:\n",
    "    print(i,sub_v2.where(sub_v2[i].isNull()).count())"
   ]
  },
  {
   "cell_type": "code",
   "execution_count": 12,
   "metadata": {},
   "outputs": [
    {
     "name": "stdout",
     "output_type": "stream",
     "text": [
      "+--------------------+-----------------+-----------------+---------------+------------------+-------------+----------------+----------------------+---------+\n",
      "|                msno|payment_method_id|payment_plan_days|plan_list_price|actual_amount_paid|is_auto_renew|transaction_date|membership_expire_date|is_cancel|\n",
      "+--------------------+-----------------+-----------------+---------------+------------------+-------------+----------------+----------------------+---------+\n",
      "|YyO+tlZtAXYXoZhNr...|               41|               30|            129|               129|            1|        20150930|              20151101|        0|\n",
      "|AZtu6Wl0gPojrEQYB...|               41|               30|            149|               149|            1|        20150930|              20151031|        0|\n",
      "|UkDFI97Qb6+s2LWci...|               41|               30|            129|               129|            1|        20150930|              20160427|        0|\n",
      "|M1C56ijxozNaGD0t2...|               39|               30|            149|               149|            1|        20150930|              20151128|        0|\n",
      "|yvj6zyBUaqdbUQSrK...|               39|               30|            149|               149|            1|        20150930|              20151121|        0|\n",
      "|KN7I82kjY0Tn76Ny9...|               21|               30|            149|               149|            1|        20150930|              20151107|        0|\n",
      "|m5ptKif9BjdUghHXX...|               39|               30|            149|               149|            1|        20150930|              20151128|        0|\n",
      "|uQxbyACsPOEkTIrv9...|               39|               30|            149|               149|            1|        20150930|              20151125|        0|\n",
      "|LUPRfoE2r3WwVWhYO...|               39|               30|            149|               149|            1|        20150930|              20151222|        0|\n",
      "|pMVjPLgVknaJYm9L0...|               39|               30|            149|               149|            1|        20150930|              20151118|        0|\n",
      "|bQkbrEPdMfVfdsoz0...|               39|               30|            149|               149|            1|        20150930|              20151121|        0|\n",
      "|TZVCT9pCufI/AWjrG...|               39|               30|            149|               149|            1|        20150930|              20151124|        0|\n",
      "|b2AiGMFhT6fbDyN12...|               39|               30|            149|               149|            1|        20150930|              20151117|        0|\n",
      "|ksInNb4D5jdSSIYUr...|               39|               30|            149|               149|            1|        20150930|              20151129|        0|\n",
      "|aQKXNflQtXF92cpv4...|               39|               30|            149|               149|            1|        20150930|              20151111|        0|\n",
      "|iFxPpElVK6kXnZbuh...|               39|               30|            149|               149|            1|        20150930|              20151122|        0|\n",
      "|8qrtRZQTuCih4YJhj...|               39|               30|            149|               149|            1|        20150930|              20151106|        0|\n",
      "|pE2FeJOBZv5snDGdF...|               39|               30|            149|               149|            1|        20150930|              20151114|        0|\n",
      "|vma4rQzDa/l4Wb/My...|               39|               30|            149|               149|            1|        20150930|              20151123|        0|\n",
      "|Qw6UVFUknPVOLxSSs...|               39|               30|            149|               149|            1|        20150930|              20151108|        0|\n",
      "+--------------------+-----------------+-----------------+---------------+------------------+-------------+----------------+----------------------+---------+\n",
      "only showing top 20 rows\n",
      "\n"
     ]
    }
   ],
   "source": [
    "trans = sqlContext.read.format('com.databricks.spark.csv').options(header='true', \n",
    "inferschema='true').load('transactions.csv')\n",
    "trans.show()"
   ]
  },
  {
   "cell_type": "code",
   "execution_count": 37,
   "metadata": {},
   "outputs": [
    {
     "name": "stdout",
     "output_type": "stream",
     "text": [
      "+-------+--------------------+------------------+-----------------+------------------+------------------+-------------------+--------------------+----------------------+-------------------+\n",
      "|summary|                msno| payment_method_id|payment_plan_days|   plan_list_price|actual_amount_paid|      is_auto_renew|    transaction_date|membership_expire_date|          is_cancel|\n",
      "+-------+--------------------+------------------+-----------------+------------------+------------------+-------------------+--------------------+----------------------+-------------------+\n",
      "|  count|            21547746|          21547746|         21547746|          21547746|          21547746|           21547746|            21547746|              21547746|           21547746|\n",
      "|   mean|                null|38.933103026181946|31.33906284211815|139.88501507303826|141.98732048354384| 0.8519661406812573|2.0157597160606544E7|  2.0158624778724514E7|0.03976522648819046|\n",
      "| stddev|                null| 3.507936375441235|30.35649375519362| 130.9647002917672| 132.4824240257643|0.35513355469032065|   6155.979049613965|      7755.75269895783| 0.1954071519228407|\n",
      "|    min|+++FOrTS7ab3tIgIh...|                 1|                0|                 0|                 0|                  0|            20150101|              19700101|                  0|\n",
      "|    max|zzzyOgMk9MljCerbC...|                41|              450|              2000|              2000|                  1|            20170228|              20170331|                  1|\n",
      "+-------+--------------------+------------------+-----------------+------------------+------------------+-------------------+--------------------+----------------------+-------------------+\n",
      "\n"
     ]
    }
   ],
   "source": [
    "trans.describe(trans.columns).show()"
   ]
  },
  {
   "cell_type": "code",
   "execution_count": 39,
   "metadata": {},
   "outputs": [
    {
     "name": "stdout",
     "output_type": "stream",
     "text": [
      "(21547746, 9)\n",
      "msno 0\n",
      "payment_method_id 0\n",
      "payment_plan_days 0\n",
      "plan_list_price 0\n",
      "actual_amount_paid 0\n",
      "is_auto_renew 0\n",
      "transaction_date 0\n",
      "membership_expire_date 0\n",
      "is_cancel 0\n"
     ]
    }
   ],
   "source": [
    "print((trans.count(), len(trans.columns)))\n",
    "for i in trans.columns:\n",
    "    print(i,trans.where(trans[i].isNull()).count())"
   ]
  },
  {
   "cell_type": "code",
   "execution_count": 49,
   "metadata": {},
   "outputs": [
    {
     "name": "stdout",
     "output_type": "stream",
     "text": [
      "payment_plan_days 37\n",
      "plan_list_price 51\n",
      "actual_amount_paid 57\n"
     ]
    }
   ],
   "source": [
    "for i in ['payment_plan_days','plan_list_price','actual_amount_paid']:\n",
    "    print(i,trans.select([i]).distinct().count())"
   ]
  },
  {
   "cell_type": "code",
   "execution_count": 13,
   "metadata": {},
   "outputs": [
    {
     "name": "stdout",
     "output_type": "stream",
     "text": [
      "+--------------------+-----------------+-----------------+---------------+------------------+-------------+----------------+----------------------+---------+\n",
      "|                msno|payment_method_id|payment_plan_days|plan_list_price|actual_amount_paid|is_auto_renew|transaction_date|membership_expire_date|is_cancel|\n",
      "+--------------------+-----------------+-----------------+---------------+------------------+-------------+----------------+----------------------+---------+\n",
      "|++6eU4LsQ3UQ20ILS...|               32|               90|            298|               298|            0|        20170131|              20170504|        0|\n",
      "|++lvGPJOinuin/8es...|               41|               30|            149|               149|            1|        20150809|              20190412|        0|\n",
      "|+/GXNtXWQVfKrEDqY...|               36|               30|            180|               180|            1|        20170303|              20170422|        0|\n",
      "|+/w1UrZwyka4C9oNH...|               36|               30|            180|               180|            1|        20170329|              20170331|        1|\n",
      "|+00PGzKTYqtnb65mP...|               41|               30|             99|                99|            1|        20170323|              20170423|        0|\n",
      "|+0KcMm8JNCW08lTp3...|               41|               30|            149|               149|            1|        20151112|              20180613|        0|\n",
      "|+0MeUJe1cGb4O97gJ...|               41|               30|             99|                99|            1|        20170313|              20170413|        0|\n",
      "|+0W3Q9FSw8TLgoNke...|               41|               30|             99|                99|            1|        20170318|              20170418|        0|\n",
      "|+0aofSeKQ/F2bhtAG...|               41|               30|             99|                99|            1|        20170316|              20170416|        0|\n",
      "|+0c0aay0C6GHocNyf...|               41|               30|            149|               149|            1|        20170307|              20170407|        0|\n",
      "|+0vdYjwKTJKP2OuVU...|               41|               30|             99|                99|            1|        20170316|              20170416|        0|\n",
      "|+1qe9o7V7yJ6CWz4n...|               40|               30|            149|               149|            1|        20170311|              20170410|        0|\n",
      "|+1sa2M+60tj9HplZS...|               16|               30|            149|               149|            1|        20170307|              20170406|        0|\n",
      "|+27xILAVHhFBaiEcy...|               41|               30|             99|                99|            1|        20170326|              20170426|        0|\n",
      "|+2HVGotjiE2ofWgVp...|               41|               30|             99|                99|            1|        20170331|              20170430|        0|\n",
      "|+2y0N7JdEAgAO2zjW...|               41|               30|             99|                99|            1|        20170308|              20170408|        0|\n",
      "|+3Z/2l0S7ui1s9FlZ...|               41|               30|            149|               149|            1|        20150731|              20171202|        0|\n",
      "|+50G1jyzn4OzqalwB...|               32|              410|           1788|              1788|            0|        20160805|              20170919|        0|\n",
      "|+5Yo2rxxC+x+kIYl4...|               34|               30|            149|               149|            1|        20170331|              20170430|        0|\n",
      "|+6YT5fhMwOfQJjT3m...|               41|               30|             99|                99|            1|        20170304|              20170404|        0|\n",
      "+--------------------+-----------------+-----------------+---------------+------------------+-------------+----------------+----------------------+---------+\n",
      "only showing top 20 rows\n",
      "\n"
     ]
    }
   ],
   "source": [
    "trans_v2 = sqlContext.read.format('com.databricks.spark.csv').options(header='true', \n",
    "inferschema='true').load('transactions_v2.csv')\n",
    "trans_v2.show()"
   ]
  },
  {
   "cell_type": "code",
   "execution_count": 38,
   "metadata": {},
   "outputs": [
    {
     "name": "stdout",
     "output_type": "stream",
     "text": [
      "+-------+--------------------+-----------------+------------------+------------------+------------------+------------------+--------------------+----------------------+-------------------+\n",
      "|summary|                msno|payment_method_id| payment_plan_days|   plan_list_price|actual_amount_paid|     is_auto_renew|    transaction_date|membership_expire_date|          is_cancel|\n",
      "+-------+--------------------+-----------------+------------------+------------------+------------------+------------------+--------------------+----------------------+-------------------+\n",
      "|  count|             1431009|          1431009|           1431009|           1431009|           1431009|           1431009|             1431009|               1431009|            1431009|\n",
      "|   mean|                null|37.91835481118567| 66.01769590547649|281.78703488238017| 281.3172411913552|0.7853025382789347|2.0168484537746444E7|   2.017110068205581E7|0.02455120827332323|\n",
      "| stddev|                null|4.964804906926901|102.48639600607589| 435.1861375927715|435.41995021775915|0.4106124443710463|   4858.796621903568|    3032.3672754623353|0.15475291008899203|\n",
      "|    min|+++IZseRRiQS9aaSk...|                2|                 0|                 0|                 0|                 0|            20150101|              20160419|                  0|\n",
      "|    max|zzzF1KsGfHH3qI6qi...|               41|               450|              2000|              2000|                 1|            20170331|              20361015|                  1|\n",
      "+-------+--------------------+-----------------+------------------+------------------+------------------+------------------+--------------------+----------------------+-------------------+\n",
      "\n"
     ]
    }
   ],
   "source": [
    "trans_v2.describe(trans_v2.columns).show()"
   ]
  },
  {
   "cell_type": "code",
   "execution_count": 40,
   "metadata": {},
   "outputs": [
    {
     "name": "stdout",
     "output_type": "stream",
     "text": [
      "(1431009, 9)\n",
      "msno 0\n",
      "payment_method_id 0\n",
      "payment_plan_days 0\n",
      "plan_list_price 0\n",
      "actual_amount_paid 0\n",
      "is_auto_renew 0\n",
      "transaction_date 0\n",
      "membership_expire_date 0\n",
      "is_cancel 0\n"
     ]
    }
   ],
   "source": [
    "print((trans_v2.count(), len(trans_v2.columns)))\n",
    "for i in trans_v2.columns:\n",
    "    print(i,trans_v2.where(trans_v2[i].isNull()).count())"
   ]
  },
  {
   "cell_type": "code",
   "execution_count": 14,
   "metadata": {
    "scrolled": true
   },
   "outputs": [
    {
     "name": "stdout",
     "output_type": "stream",
     "text": [
      "+--------------------+--------+------+------+------+-------+-------+-------+----------+\n",
      "|                msno|    date|num_25|num_50|num_75|num_985|num_100|num_unq|total_secs|\n",
      "+--------------------+--------+------+------+------+-------+-------+-------+----------+\n",
      "|rxIP2f2aN0rYNp+to...|20150513|     0|     0|     0|      0|      1|      1|   280.335|\n",
      "|rxIP2f2aN0rYNp+to...|20150709|     9|     1|     0|      0|      7|     11|  1658.948|\n",
      "|yxiEWwE9VR5utpUec...|20150105|     3|     3|     0|      0|     68|     36| 17364.956|\n",
      "|yxiEWwE9VR5utpUec...|20150306|     1|     0|     1|      1|     97|     27| 24667.317|\n",
      "|yxiEWwE9VR5utpUec...|20150501|     3|     0|     0|      0|     38|     38|  9649.029|\n",
      "|yxiEWwE9VR5utpUec...|20150702|     4|     0|     1|      1|     33|     10|  10021.52|\n",
      "|yxiEWwE9VR5utpUec...|20150830|     3|     1|     0|      0|      4|      7|  1119.555|\n",
      "|yxiEWwE9VR5utpUec...|20151107|     1|     0|     0|      0|      4|      5|   938.022|\n",
      "|yxiEWwE9VR5utpUec...|20160110|     2|     0|     1|      0|     11|      6|  3004.068|\n",
      "|yxiEWwE9VR5utpUec...|20160316|     9|     3|     4|      1|     67|     50| 18257.661|\n",
      "|yxiEWwE9VR5utpUec...|20160510|     5|     3|     2|      1|     67|     66| 16764.206|\n",
      "|yxiEWwE9VR5utpUec...|20160804|     1|     4|     5|      0|     36|     43| 11359.565|\n",
      "|yxiEWwE9VR5utpUec...|20160926|     7|     1|     0|      1|     38|     20| 10201.979|\n",
      "|yxiEWwE9VR5utpUec...|20161115|     0|     1|     4|      1|     38|     40|  9288.948|\n",
      "|yxiEWwE9VR5utpUec...|20170106|     0|     0|     0|      1|     39|     38| 10123.228|\n",
      "|PNxIsSLWOJDCm7pNP...|20151201|     3|     3|     2|      0|      8|     11|   2293.25|\n",
      "|PNxIsSLWOJDCm7pNP...|20160628|     0|     0|     1|      1|      1|      3|    639.03|\n",
      "|PNxIsSLWOJDCm7pNP...|20170106|     2|     1|     0|      0|     35|     34|  7563.936|\n",
      "|KXF9c/T66LZIzFq+x...|20150803|     0|     0|     0|      0|     16|     11|   3585.94|\n",
      "|KXF9c/T66LZIzFq+x...|20160527|     4|     3|     0|      2|      2|     11|  1267.563|\n",
      "+--------------------+--------+------+------+------+-------+-------+-------+----------+\n",
      "only showing top 20 rows\n",
      "\n"
     ]
    }
   ],
   "source": [
    "users = sqlContext.read.format('com.databricks.spark.csv').options(header='true', \n",
    "inferschema='true').load('user_logs.csv')\n",
    "users.show()"
   ]
  },
  {
   "cell_type": "code",
   "execution_count": 41,
   "metadata": {},
   "outputs": [
    {
     "name": "stdout",
     "output_type": "stream",
     "text": [
      "+-------+--------------------+--------------------+------------------+------------------+------------------+-----------------+------------------+-----------------+--------------------+\n",
      "|summary|                msno|                date|            num_25|            num_50|            num_75|          num_985|           num_100|          num_unq|          total_secs|\n",
      "+-------+--------------------+--------------------+------------------+------------------+------------------+-----------------+------------------+-----------------+--------------------+\n",
      "|  count|           392106543|           392106543|         392106543|         392106543|         392106543|        392106543|         392106543|        392106543|           392106543|\n",
      "|   mean|                null|2.0157392772790205E7|   6.5122654125157|1.6402934393267699|1.0170778889552985|1.128667314791531|30.720766659076126|30.09015563150141|-1.44484764146291...|\n",
      "| stddev|                null|   6180.790342654768|14.675721602186755| 4.251232345951582|2.1781225345454422|2.862671712752057| 42.33216702750538|33.75520836606863|1.155494528692845...|\n",
      "|    min|+++4vcS9aMH7KWdfh...|            20150101|                 0|                 0|                 0|                0|                 0|                1|-9.22337203685477...|\n",
      "|    max|zzzyOgMk9MljCerbC...|            20170228|             18798|              1710|              1690|             2747|             42004|             4784|9.223372036854776E15|\n",
      "+-------+--------------------+--------------------+------------------+------------------+------------------+-----------------+------------------+-----------------+--------------------+\n",
      "\n"
     ]
    }
   ],
   "source": [
    "users.describe(users.columns).show()"
   ]
  },
  {
   "cell_type": "code",
   "execution_count": 44,
   "metadata": {},
   "outputs": [
    {
     "name": "stdout",
     "output_type": "stream",
     "text": [
      "(392106543, 9)\n",
      "msno 0\n",
      "date 0\n",
      "num_25 0\n",
      "num_50 0\n",
      "num_75 0\n",
      "num_985 0\n",
      "num_100 0\n",
      "num_unq 0\n",
      "total_secs 0\n"
     ]
    }
   ],
   "source": [
    "print((users.count(), len(users.columns)))\n",
    "for i in users.columns:\n",
    "    print(i,users.where(users[i].isNull()).count())"
   ]
  },
  {
   "cell_type": "code",
   "execution_count": 129,
   "metadata": {},
   "outputs": [
    {
     "name": "stdout",
     "output_type": "stream",
     "text": [
      "5234111\n"
     ]
    }
   ],
   "source": [
    "print(users.select(['msno']).distinct().count())"
   ]
  },
  {
   "cell_type": "code",
   "execution_count": 17,
   "metadata": {
    "scrolled": true
   },
   "outputs": [
    {
     "name": "stdout",
     "output_type": "stream",
     "text": [
      "+--------------------+--------+------+------+------+-------+-------+-------+----------+\n",
      "|                msno|    date|num_25|num_50|num_75|num_985|num_100|num_unq|total_secs|\n",
      "+--------------------+--------+------+------+------+-------+-------+-------+----------+\n",
      "|u9E91QDTvHLq6NXjE...|20170331|     8|     4|     0|      1|     21|     18|  6309.273|\n",
      "|nTeWW/eOZA/UHKdD5...|20170330|     2|     2|     1|      0|      9|     11|  2390.699|\n",
      "|2UqkWXwZbIjs03dHL...|20170331|    52|     3|     5|      3|     84|    110| 23203.337|\n",
      "|ycwLc+m2O0a85jSLA...|20170331|   176|     4|     2|      2|     19|    191|  7100.454|\n",
      "|EGcbTofOSOkMmQyN1...|20170331|     2|     1|     0|      1|    112|     93| 28401.558|\n",
      "|qR/ndQ5B+1cY+c9ih...|20170331|     3|     0|     0|      0|     39|     41|  9786.842|\n",
      "|N6ch5ArfJixq9mvAR...|20170330|     9|     1|     0|      0|     18|     26|  4920.255|\n",
      "|JEjl2W1ivEI6epeob...|20170331|   181|    68|     5|      3|     54|    291| 22433.105|\n",
      "|lPK4IYIFdfTT6pq7x...|20170331|     3|     0|     1|      1|    181|    150| 46240.281|\n",
      "|cDgnvwQwCwru2m3zc...|20170331|     5|     4|     1|      1|     30|     31|  7881.618|\n",
      "|Cwk7eMLB8Gn8WuzEC...|20170331|     7|     1|     2|      7|     69|     74| 18169.176|\n",
      "|6eT/NGMljpNgEeqTY...|20170324|    78|     5|     3|      2|      8|     85|   3490.02|\n",
      "|PVoh0C3fQb1qPNLj7...|20170325|     7|     1|     0|      0|     45|     21|  8159.811|\n",
      "|cK5XYJqbmsRYasnA4...|20170324|     1|     0|     0|      0|     17|     18|  4012.814|\n",
      "|zv12NEuyP2XxcgTDu...|20170325|     5|     3|     2|      1|     34|     43|  9060.814|\n",
      "|NCRcE4eNurBdOoRk0...|20170325|    40|     6|     2|      2|    131|    149| 29400.889|\n",
      "|q5iH4iDmaFeyz2Zhv...|20170324|     4|     2|     0|      1|     79|     80|  20312.57|\n",
      "|dgjSYdCsI6j51myzx...|20170325|     3|     1|     0|      2|    155|    156| 36424.954|\n",
      "|Q6XdUeVvsXNF/7o0I...|20170318|     1|     1|     1|      0|    136|    123| 37989.716|\n",
      "|TWrqEpm0U75ZWW6CH...|20170317|    18|     1|     2|      3|    170|    162| 42203.675|\n",
      "+--------------------+--------+------+------+------+-------+-------+-------+----------+\n",
      "only showing top 20 rows\n",
      "\n"
     ]
    }
   ],
   "source": [
    "users_v2 = sqlContext.read.format('com.databricks.spark.csv').options(header='true', \n",
    "inferschema='true').load('user_logs_v2.csv')\n",
    "users_v2.show()"
   ]
  },
  {
   "cell_type": "code",
   "execution_count": 42,
   "metadata": {},
   "outputs": [
    {
     "name": "stdout",
     "output_type": "stream",
     "text": [
      "+-------+--------------------+--------------------+-----------------+------------------+------------------+------------------+-----------------+-----------------+------------------+\n",
      "|summary|                msno|                date|           num_25|            num_50|            num_75|           num_985|          num_100|          num_unq|        total_secs|\n",
      "+-------+--------------------+--------------------+-----------------+------------------+------------------+------------------+-----------------+-----------------+------------------+\n",
      "|  count|            18396362|            18396362|         18396362|          18396362|          18396362|          18396362|         18396362|         18396362|          18396362|\n",
      "|   mean|                null|2.0170316085612632E7|6.191400941120858|1.5087888572751504|0.9413759089976594|1.0799049290289027|30.28246090178047|29.03614551616238| 7904.813556356466|\n",
      "| stddev|                null|   8.916720035165195|13.42826633653486| 3.908538557820445|1.9248401148456415| 3.518409046864023|42.03641179520037|32.19865987108722|10136.323015166672|\n",
      "|    min|+++IZseRRiQS9aaSk...|            20170301|                0|                 0|                 0|                 0|                0|                1|             0.001|\n",
      "|    max|zzzueVTwIa5TjXnG2...|            20170331|             5639|               912|               508|              1561|            41107|             4925|       9194058.522|\n",
      "+-------+--------------------+--------------------+-----------------+------------------+------------------+------------------+-----------------+-----------------+------------------+\n",
      "\n"
     ]
    }
   ],
   "source": [
    "users_v2.describe(users_v2.columns).show()"
   ]
  },
  {
   "cell_type": "code",
   "execution_count": 46,
   "metadata": {},
   "outputs": [
    {
     "name": "stdout",
     "output_type": "stream",
     "text": [
      "(18396362, 9)\n",
      "msno 0\n",
      "date 0\n",
      "num_25 0\n",
      "num_50 0\n",
      "num_75 0\n",
      "num_985 0\n",
      "num_100 0\n",
      "num_unq 0\n",
      "total_secs 0\n"
     ]
    }
   ],
   "source": [
    "print((users_v2.count(), len(users_v2.columns)))\n",
    "for i in users_v2.columns:\n",
    "    print(i,users_v2.where(users_v2[i].isNull()).count())"
   ]
  },
  {
   "cell_type": "code",
   "execution_count": 117,
   "metadata": {},
   "outputs": [
    {
     "name": "stdout",
     "output_type": "stream",
     "text": [
      "+--------------------+----+---+------+--------------+----------------------+\n",
      "|                msno|city| bd|gender|registered_via|registration_init_time|\n",
      "+--------------------+----+---+------+--------------+----------------------+\n",
      "|Rb9UwLQTrxzBVwCB6...|   1|  0|  null|            11|              20110911|\n",
      "|+tJonkh+O1CA796Fm...|   1|  0|  null|             7|              20110914|\n",
      "|cV358ssn7a0f7jZOw...|   1|  0|  null|            11|              20110915|\n",
      "|9bzDeJP6sQodK73K5...|   1|  0|  null|            11|              20110915|\n",
      "|WFLY3s7z4EZsieHCt...|   6| 32|female|             9|              20110915|\n",
      "|yLkV2gbZ4GLFwqTOX...|   4| 30|  male|             9|              20110916|\n",
      "|jNCGK78YkTyId3H3w...|   1|  0|  null|             7|              20110916|\n",
      "|WH5Jq4mgtfUFXh2yz...|   5| 34|  male|             9|              20110916|\n",
      "|tKmbR4X5VXjHmxERr...|   5| 19|  male|             9|              20110917|\n",
      "|I0yFvqMoNkM8ZNHb6...|  13| 63|  male|             9|              20110918|\n",
      "|OoDwiKZM+ZGr9P3fR...|   1|  0|  null|             7|              20110918|\n",
      "|dCvvBHlaOAqgkAcv3...|  22| 18|  male|             9|              20110919|\n",
      "|6bra2AiVV8SGlm7R6...|   4| 34|female|             9|              20110919|\n",
      "|4De1jAxNRABoyRBDZ...|   4| 28|female|             9|              20110920|\n",
      "|iOzdu4IHbJxhB5CPp...|  12| 29|female|             9|              20110922|\n",
      "|hZia/3iyvtThD1kv6...|   1|  0|  null|             9|              20110922|\n",
      "|QlDflP89J5KChheo2...|   1|  0|  null|             9|              20110922|\n",
      "|fOpj0ApSXk1NVODvC...|  13| 31|female|             7|              20110923|\n",
      "|GsPgdrXoV6688/0RF...|   1|  0|  null|             7|              20110924|\n",
      "|QHHKGOY5yLrGdR8WY...|   5| 19|female|             9|              20110925|\n",
      "+--------------------+----+---+------+--------------+----------------------+\n",
      "only showing top 20 rows\n",
      "\n"
     ]
    }
   ],
   "source": [
    "member = sqlContext.read.format('com.databricks.spark.csv').options(header='true', \n",
    "inferschema='true').load('members_v3.csv')\n",
    "member.show()"
   ]
  },
  {
   "cell_type": "code",
   "execution_count": 43,
   "metadata": {},
   "outputs": [
    {
     "name": "stdout",
     "output_type": "stream",
     "text": [
      "+-------+--------------------+-----------------+------------------+-------+------------------+----------------------+\n",
      "|summary|                msno|             city|                bd| gender|    registered_via|registration_init_time|\n",
      "+-------+--------------------+-----------------+------------------+-------+------------------+----------------------+\n",
      "|  count|             6769473|          6769473|           6769473|2339968|           6769473|               6769473|\n",
      "|   mean|                null|3.847357689439045| 9.795794295951842|   null| 5.253068739619761|  2.0145175906336136E7|\n",
      "| stddev|                null|5.478359063260562|17.925899719010957|   null|2.3613983148064923|    23186.007612061796|\n",
      "|    min|+++4vcS9aMH7KWdfh...|                1|             -7168| female|                -1|              20040326|\n",
      "|    max|zzzyOgMk9MljCerbC...|               22|              2016|   male|                19|              20170429|\n",
      "+-------+--------------------+-----------------+------------------+-------+------------------+----------------------+\n",
      "\n"
     ]
    }
   ],
   "source": [
    "member.describe(member.columns).show()"
   ]
  },
  {
   "cell_type": "code",
   "execution_count": 45,
   "metadata": {},
   "outputs": [
    {
     "name": "stdout",
     "output_type": "stream",
     "text": [
      "(6769473, 6)\n",
      "msno 0\n",
      "city 0\n",
      "bd 0\n",
      "gender 4429505\n",
      "registered_via 0\n",
      "registration_init_time 0\n"
     ]
    }
   ],
   "source": [
    "print((member.count(), len(member.columns)))\n",
    "for i in member.columns:\n",
    "    print(i,member.where(member[i].isNull()).count())"
   ]
  },
  {
   "cell_type": "code",
   "execution_count": 50,
   "metadata": {},
   "outputs": [
    {
     "name": "stdout",
     "output_type": "stream",
     "text": [
      "city 21\n",
      "registered_via 18\n"
     ]
    }
   ],
   "source": [
    "for i in ['city','registered_via']:\n",
    "    print(i,member.select([i]).distinct().count())"
   ]
  },
  {
   "cell_type": "code",
   "execution_count": 51,
   "metadata": {},
   "outputs": [
    {
     "data": {
      "text/plain": [
       "[('msno', 'string'),\n",
       " ('city', 'int'),\n",
       " ('bd', 'int'),\n",
       " ('gender', 'string'),\n",
       " ('registered_via', 'int'),\n",
       " ('registration_init_time', 'int')]"
      ]
     },
     "execution_count": 51,
     "metadata": {},
     "output_type": "execute_result"
    }
   ],
   "source": [
    "member.dtypes"
   ]
  },
  {
   "cell_type": "code",
   "execution_count": 123,
   "metadata": {},
   "outputs": [
    {
     "data": {
      "text/plain": [
       "[('msno', 'string'),\n",
       " ('city', 'int'),\n",
       " ('bd', 'int'),\n",
       " ('gender', 'string'),\n",
       " ('registered_via', 'int'),\n",
       " ('registration_init_time', 'string')]"
      ]
     },
     "execution_count": 123,
     "metadata": {},
     "output_type": "execute_result"
    }
   ],
   "source": [
    "member_time = member.withColumn(\"registration_init_time\",member[\"registration_init_time\"].cast('string'))\n",
    "member_time.dtypes"
   ]
  },
  {
   "cell_type": "code",
   "execution_count": 124,
   "metadata": {
    "scrolled": true
   },
   "outputs": [
    {
     "name": "stdout",
     "output_type": "stream",
     "text": [
      "+--------------------+----+---+------+--------------+-------------------+\n",
      "|                msno|city| bd|gender|registered_via|               date|\n",
      "+--------------------+----+---+------+--------------+-------------------+\n",
      "|Rb9UwLQTrxzBVwCB6...|   1|  0|  null|            11|2011-09-11 00:00:00|\n",
      "|+tJonkh+O1CA796Fm...|   1|  0|  null|             7|2011-09-14 00:00:00|\n",
      "|cV358ssn7a0f7jZOw...|   1|  0|  null|            11|2011-09-15 00:00:00|\n",
      "|9bzDeJP6sQodK73K5...|   1|  0|  null|            11|2011-09-15 00:00:00|\n",
      "|WFLY3s7z4EZsieHCt...|   6| 32|female|             9|2011-09-15 00:00:00|\n",
      "+--------------------+----+---+------+--------------+-------------------+\n",
      "only showing top 5 rows\n",
      "\n"
     ]
    }
   ],
   "source": [
    "member_time = member_time.select('msno', 'city', 'bd', 'gender', 'registered_via' ,from_unixtime(unix_timestamp('registration_init_time', 'yyyyMMdd')).alias('date'))\n",
    "member_time.show(5)"
   ]
  },
  {
   "cell_type": "code",
   "execution_count": null,
   "metadata": {},
   "outputs": [],
   "source": []
  }
 ],
 "metadata": {
  "kernelspec": {
   "display_name": "Python 3",
   "language": "python",
   "name": "python3"
  },
  "language_info": {
   "codemirror_mode": {
    "name": "ipython",
    "version": 3
   },
   "file_extension": ".py",
   "mimetype": "text/x-python",
   "name": "python",
   "nbconvert_exporter": "python",
   "pygments_lexer": "ipython3",
   "version": "3.7.4"
  }
 },
 "nbformat": 4,
 "nbformat_minor": 4
}
